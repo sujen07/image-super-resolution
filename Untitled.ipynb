{
 "cells": [
  {
   "cell_type": "code",
   "execution_count": 15,
   "id": "cda775e3",
   "metadata": {},
   "outputs": [],
   "source": [
    "import torch\n",
    "import numpy as np\n",
    "from PIL import Image\n",
    "from models import Generator\n",
    "\n",
    "device = torch.device(\"cuda\")\n",
    "\n",
    "model = Generator()\n",
    "model.load_state_dict(torch.load('model_4.pth'))\n",
    "model.eval()\n",
    "model = model.to(device)\n",
    "\n",
    "def split_into_patches(image, patch_size=256):\n",
    "    patches = []\n",
    "    img_np = np.array(image)\n",
    "    for i in range(0, img_np.shape[0], patch_size):\n",
    "        for j in range(0, img_np.shape[1], patch_size):\n",
    "            patch = img_np[i:i+patch_size, j:j+patch_size, :]\n",
    "            patches.append(patch)\n",
    "    return patches\n",
    "\n",
    "def process_patches(patches, model):\n",
    "    processed_patches = []\n",
    "    for patch in patches:\n",
    "        patch_tensor = torch.tensor(patch).unsqueeze(0)  # Add batch dimension\n",
    "        patch_tensor = patch_tensor.permute(0, 3, 1, 2)  # Rearrange to [B, C, H, W]\n",
    "        # Assuming model expects float and normalized input\n",
    "        patch_tensor = (patch_tensor.float() / 255.0).to(device)\n",
    "        with torch.no_grad():\n",
    "            processed_patch = model(patch_tensor)\n",
    "        processed_patches.append(processed_patch.squeeze(0).cpu())  # Remove batch dimension\n",
    "    return processed_patches\n",
    "\n",
    "def reassemble_patches(patches, original_image_size, patch_size=256, magnification_factor=4):\n",
    "    # Calculate the new dimensions of the upscaled image\n",
    "    upscaled_image_width = original_image_size[0] * magnification_factor\n",
    "    upscaled_image_height = original_image_size[1] * magnification_factor\n",
    "    \n",
    "    # Initialize an empty array for the reassembled image with upscaled dimensions\n",
    "    reassembled_image = np.zeros((upscaled_image_height, upscaled_image_width, 3), dtype=np.float32)\n",
    "    \n",
    "    num_patches_per_row = int(np.ceil(original_image_size[0] / patch_size))\n",
    "    \n",
    "    for patch_index, patch in enumerate(patches):\n",
    "        # Find the row and column number for the current patch\n",
    "        row = patch_index // num_patches_per_row\n",
    "        col = patch_index % num_patches_per_row\n",
    "        \n",
    "        # Calculate the position in the upscaled image where the patch should be placed\n",
    "        start_row = row * patch_size * magnification_factor\n",
    "        start_col = col * patch_size * magnification_factor\n",
    "        \n",
    "        # Convert tensor to numpy array, adjust for processing as needed\n",
    "        patch_np = patch.permute(1, 2, 0).detach().cpu().numpy()\n",
    "        \n",
    "        end_row = start_row + patch_np.shape[0]\n",
    "        end_col = start_col + patch_np.shape[1]\n",
    "        \n",
    "        # Place the patch in the correct position of the reassembled image\n",
    "        reassembled_image[start_row:end_row, start_col:end_col, :] = patch_np\n",
    "\n",
    "    return reassembled_image\n",
    "\n",
    "\n",
    "# Example usage\n",
    "image = Image.open('image.png').convert('RGB')\n",
    "patches = split_into_patches(image, patch_size=256)\n",
    "processed_patches = process_patches(patches, model)\n",
    "reassembled_image = reassemble_patches(processed_patches, image.size, patch_size=256)\n",
    "final_image = Image.fromarray((reassembled_image * 255).astype(np.uint8))\n",
    "final_image.save('shaass.png')\n"
   ]
  },
  {
   "cell_type": "code",
   "execution_count": 13,
   "id": "4c499306",
   "metadata": {},
   "outputs": [
    {
     "data": {
      "text/plain": [
       "1024"
      ]
     },
     "execution_count": 13,
     "metadata": {},
     "output_type": "execute_result"
    }
   ],
   "source": []
  },
  {
   "cell_type": "code",
   "execution_count": null,
   "id": "9965a716",
   "metadata": {},
   "outputs": [],
   "source": []
  }
 ],
 "metadata": {
  "kernelspec": {
   "display_name": "Python 3 (clean)",
   "language": "python",
   "name": "python3_clean"
  },
  "language_info": {
   "codemirror_mode": {
    "name": "ipython",
    "version": 3
   },
   "file_extension": ".py",
   "mimetype": "text/x-python",
   "name": "python",
   "nbconvert_exporter": "python",
   "pygments_lexer": "ipython3",
   "version": "3.9.5"
  }
 },
 "nbformat": 4,
 "nbformat_minor": 5
}
